{
 "cells": [
  {
   "cell_type": "code",
   "execution_count": 8,
   "id": "176a8531",
   "metadata": {},
   "outputs": [],
   "source": [
    "import json\n",
    "import logging\n",
    "import urllib.request\n",
    "from urllib.error import HTTPError\n",
    "from bs4 import BeautifulSoup as bs\n",
    "\n",
    "ineuron_url = 'https://ineuron.ai/'\n",
    "headers = {\n",
    "    'User-Agent': 'Mozilla/5.0 (Windows NT 10.0; Win64; x64) AppleWebKit/537.36 (KHTML, like Gecko) Chrome/58.0.3029.110 Safari/537.3'}\n",
    "\n",
    "try:\n",
    "    request = urllib.request.Request(ineuron_url, headers=headers)\n",
    "    uClient = urllib.request.urlopen(request)\n",
    "    ineuron_page = uClient.read()\n",
    "    uClient.close()\n",
    "\n",
    "    ineuron_html = bs(ineuron_page, 'html.parser')\n",
    "    course_data_element = ineuron_html.find('script', {\"id\": \"__NEXT_DATA__\"})\n",
    "\n",
    "    if course_data_element is not None:\n",
    "        try:\n",
    "            course_data = json.loads(course_data_element.get_text())\n",
    "            logging.info('Course data saved as JSON format')\n",
    "            all_dict = {}\n",
    "        except json.JSONDecodeError as e:\n",
    "            logging.error(f\"JSON decoding error: {e}\")\n",
    "            # Handle the JSON decoding error as required\n",
    "    else:\n",
    "        logging.warning('Unable to find course data element with id \"__NEXT_DATA__\"')\n",
    "\n",
    "except HTTPError as e:\n",
    "    logging.error(f\"HTTP error occurred: {e}\")\n",
    "    # Handle the error as required (e.g., exit the script or try an alternative approach)\n",
    "    exit(1)\n"
   ]
  },
  {
   "cell_type": "code",
   "execution_count": 9,
   "id": "b5208bf0",
   "metadata": {},
   "outputs": [
    {
     "name": "stdout",
     "output_type": "stream",
     "text": [
      "['Masterclass Why study Web Development & DSA Usecases in Industry', 'Building Scalable Applications in Java & Spring Masterclass', 'Machine Learning Community Class', 'Mastering Databases', 'CarDekho End to End Project', 'Full Stack Data Science Masters', 'Complete DSA in Python', 'Tableau Foundation Course', 'Complete Excel Course', 'Automatic Number Plate Recognition', 'Build Modern ETL Data Pipeline using Informatica cloud', 'Build ETL Data Pipeline on AWS EMR Cluster', 'Create A Data Pipeline based on Messaging Using PySpark and Airflow', 'Hive Project to build a data warehouse for e-Commerce', 'House Price Prediction', 'MLFlow Production Server Setup', 'Sensor Fault Prediction', 'Text Summarization', 'The Ultimate Guide To OpenAI GPT-3 & Fine Tune with Custom Data', 'Industry Safety Detection using YOLO v7', 'Shipment Price Prediction', 'Finance Complaint', 'Deep Authenticator', 'Language Identification', 'Sign Language Detection', 'Text To Speech', 'Face Swap Application', \"Full Stack Data Science Nov'21 Tech Neuron\", \"Full Stack Data Science Feb'21 Tech Neuron\", 'Machine Learning Bootcamp Tech Neuron', 'Manual Testing Kickstart', 'Machine Learning Bootcamp', 'Azure Machine Learning DP 100', 'Informatica Cloud (IICS)', 'DSA in C++, Competitive Programming & IOT in Hindi', 'Teradata', 'Full Stack Data Analytics 2.0', 'Full-Stack Data Science', 'Job Guaranteed BigData Bootcamp 2.0', 'Web Automation Using Selenium Community Class', 'Pre Ethical Hacking Community Class', 'TypeScript Crash Course', 'Full Stack JavaScript Bootcamp 2.0', 'Java Community Class', 'C Sharp Programming', 'Complete iOS 16 Developer with SwiftUI and 8 Apps', 'Complete iOS 16 Developer with Swift and 8 Apps', 'Full Stack Java Developer', 'Be A DevOps Pro Tech Neuron', 'Be A DevOps Pro', 'Prisma Backend Development', 'Data Science Interview Tech Neuron', 'Data Science Interview', 'Industry Ready Data Science Projects Tech Neuron', 'Data Science Industry Ready Projects', 'Web Automation Using Selenium With Java and Cucumber BDD Tech Neuron', 'DSA for FAANG preparation with Python and JavaScript Tech Neuron', 'Full Stack Web Development with Python in Hindi Tech Neuron', 'Big Data Masters Tech Neuron', 'Full Stack Data Science BootCamp 2.0', 'Reinforcement Learning', 'Data Structure and Algorithm Interview Preparation', 'Java Coding Interview Preparation', 'JavaScript Coding Interview Preparation', 'Machine Learning Interview Preparation', 'Pro Aptitude - C Language', 'Pro Aptitude - C++', 'Pro Aptitude - Data Structures and Algorithms', 'Pro Aptitude - DBMS', 'Pro Aptitude - Java', 'Pro Aptitude - Operating Systems', 'Pro Aptitude - Python', 'Pro Computer Networking', 'Pro C Programming Language', 'Pro Max Interview Preparation Edition 1', 'Pro Max Interview Preparation Edition 2', 'Pro Max Interview Preparation Edition 3', 'Pro C++ Programming Language', 'Pro Database Management Systems', 'Pro Data Structure and Algorithms', 'Pro Java Programming Language', 'Pro JavaScript Programming Language', 'Pro Operating Systems', 'Pro Python Programming Language', 'Python Coding Interview Preparation', 'Aptitude Test Series', 'Mastering DSA with Python', 'Mastering DSA with Java', 'Mastering DSA with C++', 'Android P with Machine Learning Apps', 'Full Stack Django Developer', 'Full Stack Django and React', 'Full Stack Django with React', 'Complete Front End Web Developer Bootcamp', 'Complete Backend Development with Nodejs', 'Backend Development with Django-8 Projects', 'Java Bootcamp for Beginners', 'Complete Flutter Course - iOS Android Apps', 'Dart Language', 'Complete ReactJs Developer Bootcamp', 'Complete Bootstrap4 - Build 5 Projects', 'Android Chatapp with FireBase', 'C++ Bootcamp for Beginners', 'Complete Angular Developer Bootcamp', 'Mysql Bootcamp for Beginners', 'Crack the Tech Interviews', 'Complete React Native Mobile App Developer', 'Complete VueJS Development', 'The Pro Backend Developer', 'AWS Architect for the Real World', 'HTML and CSS for Web Development', 'JavaScript Fundamentals', 'HTML and CSS', 'Ethical Hacking & Penetration Testing', 'Crack the Tech Interview', 'Write quicker HTML5 and CSS 3; productivity hacks with emmet4', 'The Complete Front End Web Developer Bootcamp', 'Machine Learning and Data Science Bootcamp', 'Publishing Custom Cocoapads', 'Build an Ecommerce with ReactJS', 'Python3 Scratch To Pro', 'ReactJS Crash Course', 'Angular Crash Course', 'Python Crash Course by Hitesh', 'Stripe with React and Node Crash Course', 'Materialize CSS Crash Course', 'VueJS Crash Course', 'Graph QL Crash Course', 'AWS Serverless', 'Fastify Crash Course', 'Socket io Crash Course', 'NextJS Full stack crash course', 'DSA for FAANG preparation with Python and JavaScript', 'DP 900 Microsoft Azure Data Fundamentals', 'AWS Big Data Analytics', 'Auto Sklearn and Auto TimeSeries', 'Blockchain Foundations', 'Angular JS Course', 'Snowflake Advanced', 'APIGEE', 'Yolo X and Yolo R', 'SAS Programming', 'Job Guaranteed Big Data Bootcamp', 'Mulesoft', 'IOT', 'Full Stack Data Analytics Tech Neuron', 'Full Stack Blockchain Development Tech Neuron', 'Youtube Mastery Course in Hindi Tech Neuron', 'Job Ready Automation Tester with JavaScript Tech Neuron', 'System Design with Design Patterns Tech Neuron', 'Cyber Security Masters Tech Neuron', 'Digital Marketing Bootcamp in Hindi Tech Neuron', 'A Job Ready Bootcamp in  C++, DSA and IOT Tech Neuron', 'Enterprise Java with Spring Boot Tech Neuron', 'Data Engineering with Google Cloud', 'Explainable AI', 'Full Stack Blockchain Development', 'JavaScript Marathon', 'AIOPS Course', 'C language for Absolute Beginners', 'MSBI', 'Web Automation Foundations', 'Digital Marketing and Youtube Niche Foundations', 'Java Foundations', 'NLP Foundations', 'SQL Foundations', 'ML and DL Foundations', 'Scala', 'Manual Testing Foundations', 'Cyber Security Foundations', 'Salesforce Developer', 'Golang', 'Tibco Business Works', 'GCP Machine Learning Certification', 'System Design Foundations', 'Informatica Powercenter', 'Talend', 'Machine Learning in R', 'Full Stack Javascript Web Developer', 'Pro Live Classes', 'MongoDB Course', 'Spring Boot', 'System Design with Design Patterns', 'Enterprise Java with Spring Boot', 'Apache Atlas', 'Apache Druid', 'Full Stack Data Analytics', 'Bash Scripting', 'Deep Learning Foundations', 'Data Analytics Bootcamp', 'MERN Stack Bootcamp', 'Certified Ethical Hacker Bootcamp', 'Latex', 'Julia Programming', 'Matlab Basic to Advance', 'Salesforce Administrator', 'Full Stack Data Science Bootcamp', 'AWS Data Engineering', 'Big Data Foundations', 'Reasoning Live Class', 'Spark AR Live Class', 'Power BI Foundations', 'Foundations of English Language', 'Android Programming with Machine Learning Apps', 'Pro Backend Developer', 'Android Chat app with FireBase', 'AWS Architect for Real World', 'Complete ReactJS Developer Bootcamp', 'Complete Bootstrap - 5 Projects', 'Django Course', 'Back-end development with Django-8 Projects', 'React Native', 'Java Bootcamp', 'Kotlin', 'Vuejs', 'Git and GitHub', 'Docker Course', 'MySQL', 'Dart Programming', 'Flutter', 'C++ Bootcamp', 'Tableau Course', 'Power BI Course', 'Alteryx Course', 'C Programming', 'FastAPI', 'Career Counselling', 'Power Automate', 'R Shiny', 'ELK Stack', 'DOMO BI', 'Stored Procedures in SQL', 'Fivetran', 'Data Warehouse', 'Azure Synapse', 'Azure Databricks', 'Azure Data Factory', 'Azure Data Engineering', 'AWS Interview Preparation', 'DBT', 'SQL Server Integration Services', 'Tech Awareness', 'Blockchain for Beginners', 'Node JS Foundation', 'AIOPS Live Projects', 'PL SQL', 'Airflow', 'Alteryx', 'RPA Foundation', 'Marketing Mix Modelling', 'Graph ML', 'Complete Backend development with Nodejs', 'DSA with Python', 'DSA with C++', 'DSA with Java', 'Email Marketing', 'MLflow', 'PostgreSQL', 'RPA - UiPath', 'Game Development', 'MS SQL Server and T-SQL', 'Snowflake Beginners', 'Tibco Spotfire', 'PyTorch Basics', 'Streamlit', 'Dask', 'AWS QuickSight', 'AWS Sagemaker', 'Trifacta', 'System Design', 'Drone', 'Mathematics for Machine Learning', 'Class 10th Chemistry', 'Class 9th Chemistry', 'Class 8th Chemistry', 'Class 6th Chemistry', 'Solidity Live Class', 'MLOPS Live Class', 'SPARK Augmented Reality Live Class', 'Statistics Live Class', 'Machine Learning Live Class', 'Linux Live Class', 'Drone Live Class', 'Data Structures and Algorithms Live Class', 'Arduino Live Class', 'Aptitude Live Class', 'Microsoft PowerApps', 'Robotics', 'Artificial Intelligence for Kids', 'Deep Learning for Kids', 'Image Processing', 'Statistics using Python', 'Raspberry Pi', 'Fundamentals of Web Designing', 'Class 8th Math', 'Class 7th Math', 'Class 6th Math', 'Class 9th Physics', 'Class 10th Physics', 'Class 8th Physics', 'Class 7th Physics', 'Class 6th Physics', 'Class 7th Biology', 'Class 10th Math', 'Class 9th Math', 'Class 8th Biology', 'Class 6th Biology', 'Class 10th Biology', 'Game Development using Unity', 'Scratch Programming for kids', 'Interactive Visualization using Seaborn', 'OpenCV using Python', 'Mathematics using Python', 'Data Analysis Using Python', 'UI Designing using Figma', 'Getting started with Cloud', 'Fundamentals of Database', 'Video editing with Adobe Premiere Pro', 'Numerical Computation with Python', 'Natural Language Processing', 'Data Visualization using Matplotlib', 'Data Processing using Dask', 'Data Manipulation using Pandas', 'Character Recognition using Python', 'Web Designing using Wordpress', 'Vedic Math', 'Fundamentals of Game Development', 'Fundamentals of Electronics', 'App Building Using Android', 'Advanced Python', 'Building Chatbot using Google DialogFlow', 'Programming in Python', 'Graphics Design with PhotoShop', 'Basics of Computer Education', 'Class 9th Biology', 'Jenkins', 'ParlAI Chatbot', 'Qlik Sense', 'ONNX', 'Solidity', 'Mega Project Foundation', 'Data Science Masters', 'Angular', 'DART', 'JAX', 'Recommender System', 'Blockchain', 'DevOps Master', 'Machine Learning Masters', 'Interview ready DSA course in Python Level 2', 'DLCV with NLP', 'Big Data Masters Crash Course', 'Business Analytics Crash Course', 'Full Stack Data Science', 'R Programming Projects', 'AIOps Interview Questions', 'AIOps', 'Django', 'Python advance with projects', 'NLP Interview Questions', 'Deep Learning ANN', 'Data Structures and Algorithms using python', 'Introduction to AIOps', 'RASA', 'Data Science Project', 'ML Interview Prepration', 'Power BI Projects', 'OpenCV Job Preparation', 'Ansible', 'C++ Job Preparation', 'Digital Marketing Projects', 'Google Cloud Platform', 'Interview ready DSA course in Python', 'NLP Crash Course', 'Machine Learning', 'Stats for Data Science', 'Python Crash Course', 'Python for Beginner', 'Machine Learning Projects', 'Data Structure and Algorithm Job Preparation', 'NLP Projects', 'Data Structure and Algorithm Projects', 'Advance Excel', 'OpenCV Projects', 'Computer Vision Projects', 'Computer Vision', 'GCP Interview', 'Azure Luis', \"Full Stack Data Science Nov'21 Batch\", 'MLDL', 'Business Analytics', 'AI Operations', 'AWS Cloud Master', 'Big Data Masters', '30 days Fast Track Data Science Interview Preparation', 'End to End Object Detection', 'Class 10 Biology', 'Class 10 Chemistry', 'Class 10 Physics', 'Class 10 Mathematics', 'Mega Community', 'Data Structure and Algorithms with competitive programming', 'MERN Stack Beginner to Advance with Internship', 'Deep Learning With Computer Vision and Advanced NLP', 'Business Analytics Masters with 3 month Internship', 'Machine Learning And Deep Learning Masters', \"Full Stack Data Science Feb'21 Batch\", 'Digital Marketing Foundation', 'Live Virtual Interview', 'Chatbot using Rasa NLU', 'Chatbot using Azure Luis', 'Chatbot Using Google Dialogflow', 'Amazon Lex Chatbot', 'Stats for Beginners', 'Machine Learning Foundation', 'Deep Learning Foundation', 'React JS', 'Angular JS', 'Node JS', 'DSAR', 'Tableau Foundation', 'PowerBI Foundation', 'DevOps Foundation', 'Data Structure and Algorithm Foundation', 'Tableau Job Preparation', 'Artificial Neural Network', 'Computer Vision Crash Course', 'AWS Crash Course', 'Advance Computer Vision', 'AIOPS Crash Course', 'SQL Projects', 'R Programming Job Preparation', 'AIOps Projects', 'Mern Stack Projects', 'SQL Job Preparation', 'Tableau Projects', 'GCP Projects', 'Kubernetes', 'Google Cloud Platform Version 2', 'Google Dialogflow', 'Aptitude Test', 'Azure Certification Road Map', 'Mern Stack', 'AWS', 'OpenCV', 'Statistics', 'Azure Fundamentals', 'Amazon Lex', 'Docker', 'Complete Interview Preparation For Data Structure and Algorithm in Python', 'Mern stack job preparation', 'Azure Data scientist Associate DP100', 'Digital Marketing', 'GIT', 'Linux', 'R Programming']\n"
     ]
    }
   ],
   "source": [
    "ineuron_script = ineuron_html.find('script', {\"id\": \"__NEXT_DATA__\"})\n",
    "if ineuron_script is not None:\n",
    "    course_data = json.loads(ineuron_script.get_text())\n",
    "    all_courses = course_data['props']['pageProps']['initialState']['init']['courses']\n",
    "    course_namelist = list(all_courses.keys())\n",
    "    print(course_namelist)\n",
    "else:\n",
    "    # Handle the case when the script with id \"__NEXT_DATA__\" is not found\n",
    "    print(\"Error: script with id '__NEXT_DATA__' not found in the HTML content\")"
   ]
  },
  {
   "cell_type": "code",
   "execution_count": null,
   "id": "f3073769",
   "metadata": {},
   "outputs": [],
   "source": []
  }
 ],
 "metadata": {
  "kernelspec": {
   "display_name": "Python 3 (ipykernel)",
   "language": "python",
   "name": "python3"
  },
  "language_info": {
   "codemirror_mode": {
    "name": "ipython",
    "version": 3
   },
   "file_extension": ".py",
   "mimetype": "text/x-python",
   "name": "python",
   "nbconvert_exporter": "python",
   "pygments_lexer": "ipython3",
   "version": "3.9.13"
  }
 },
 "nbformat": 4,
 "nbformat_minor": 5
}
